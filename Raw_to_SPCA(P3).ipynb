{
 "cells": [
  {
   "cell_type": "code",
   "execution_count": 1,
   "id": "e7c206b4",
   "metadata": {},
   "outputs": [
    {
     "name": "stderr",
     "output_type": "stream",
     "text": [
      "C:\\Users\\KANAK\\AppData\\Local\\Temp\\ipykernel_3936\\1918272072.py:2: DeprecationWarning: \n",
      "Pyarrow will become a required dependency of pandas in the next major release of pandas (pandas 3.0),\n",
      "(to allow more performant data types, such as the Arrow string type, and better interoperability with other libraries)\n",
      "but was not found to be installed on your system.\n",
      "If this would cause problems for you,\n",
      "please provide us feedback at https://github.com/pandas-dev/pandas/issues/54466\n",
      "        \n",
      "  import pandas as pd\n"
     ]
    }
   ],
   "source": [
    "import numpy as np\n",
    "import pandas as pd\n",
    "\n",
    "import warnings\n",
    "warnings.filterwarnings('ignore')"
   ]
  },
  {
   "cell_type": "code",
   "execution_count": 2,
   "id": "6282f10c",
   "metadata": {},
   "outputs": [],
   "source": [
    "data = pd.read_csv(r'C:\\Users\\KANAK\\Desktop\\Codes\\LoRaIoT\\GitHub/PHC_RawDataset.csv')"
   ]
  },
  {
   "cell_type": "code",
   "execution_count": 3,
   "id": "f437c1af",
   "metadata": {},
   "outputs": [],
   "source": [
    "X = data.iloc[:,0:6].values\n",
    "y = data.iloc[:,6].values"
   ]
  },
  {
   "cell_type": "code",
   "execution_count": 4,
   "id": "90266f72",
   "metadata": {},
   "outputs": [],
   "source": [
    "from sklearn.preprocessing import StandardScaler\n",
    "scaler = StandardScaler()\n",
    "Scaled_X=scaler.fit_transform(X)"
   ]
  },
  {
   "cell_type": "code",
   "execution_count": 5,
   "id": "0f8b925c",
   "metadata": {},
   "outputs": [
    {
     "data": {
      "text/plain": [
       "array([0.69886381, 0.24002834, 0.02693311])"
      ]
     },
     "execution_count": 5,
     "metadata": {},
     "output_type": "execute_result"
    }
   ],
   "source": [
    "from sklearn.decomposition import PCA\n",
    "pca_model = PCA(n_components=3)\n",
    "spca_X = pca_model.fit_transform(Scaled_X)\n",
    "spca_X\n",
    "pca_model.explained_variance_ratio_"
   ]
  },
  {
   "cell_type": "code",
   "execution_count": 6,
   "id": "25178e2a",
   "metadata": {},
   "outputs": [],
   "source": [
    "# Create data Frame\n",
    "df1 = pd.DataFrame(spca_X)\n",
    "df2 = pd.DataFrame(y)"
   ]
  },
  {
   "cell_type": "code",
   "execution_count": 7,
   "id": "600c3d2f",
   "metadata": {},
   "outputs": [
    {
     "data": {
      "text/html": [
       "<div>\n",
       "<style scoped>\n",
       "    .dataframe tbody tr th:only-of-type {\n",
       "        vertical-align: middle;\n",
       "    }\n",
       "\n",
       "    .dataframe tbody tr th {\n",
       "        vertical-align: top;\n",
       "    }\n",
       "\n",
       "    .dataframe thead th {\n",
       "        text-align: right;\n",
       "    }\n",
       "</style>\n",
       "<table border=\"1\" class=\"dataframe\">\n",
       "  <thead>\n",
       "    <tr style=\"text-align: right;\">\n",
       "      <th></th>\n",
       "      <th>0</th>\n",
       "      <th>1</th>\n",
       "      <th>2</th>\n",
       "      <th>0</th>\n",
       "    </tr>\n",
       "  </thead>\n",
       "  <tbody>\n",
       "    <tr>\n",
       "      <th>0</th>\n",
       "      <td>-3.714375</td>\n",
       "      <td>-1.582964</td>\n",
       "      <td>-0.106822</td>\n",
       "      <td>1</td>\n",
       "    </tr>\n",
       "    <tr>\n",
       "      <th>1</th>\n",
       "      <td>-3.718911</td>\n",
       "      <td>-1.583909</td>\n",
       "      <td>-0.106570</td>\n",
       "      <td>1</td>\n",
       "    </tr>\n",
       "    <tr>\n",
       "      <th>2</th>\n",
       "      <td>-3.289348</td>\n",
       "      <td>-1.538776</td>\n",
       "      <td>-0.223914</td>\n",
       "      <td>1</td>\n",
       "    </tr>\n",
       "    <tr>\n",
       "      <th>3</th>\n",
       "      <td>-3.268526</td>\n",
       "      <td>-1.539038</td>\n",
       "      <td>-0.236779</td>\n",
       "      <td>1</td>\n",
       "    </tr>\n",
       "    <tr>\n",
       "      <th>4</th>\n",
       "      <td>-3.262346</td>\n",
       "      <td>-1.535311</td>\n",
       "      <td>-0.243634</td>\n",
       "      <td>1</td>\n",
       "    </tr>\n",
       "    <tr>\n",
       "      <th>...</th>\n",
       "      <td>...</td>\n",
       "      <td>...</td>\n",
       "      <td>...</td>\n",
       "      <td>...</td>\n",
       "    </tr>\n",
       "    <tr>\n",
       "      <th>2845</th>\n",
       "      <td>3.494954</td>\n",
       "      <td>-4.350059</td>\n",
       "      <td>1.350967</td>\n",
       "      <td>8</td>\n",
       "    </tr>\n",
       "    <tr>\n",
       "      <th>2846</th>\n",
       "      <td>3.454217</td>\n",
       "      <td>-4.393956</td>\n",
       "      <td>1.374056</td>\n",
       "      <td>8</td>\n",
       "    </tr>\n",
       "    <tr>\n",
       "      <th>2847</th>\n",
       "      <td>3.400697</td>\n",
       "      <td>-4.387613</td>\n",
       "      <td>1.386575</td>\n",
       "      <td>8</td>\n",
       "    </tr>\n",
       "    <tr>\n",
       "      <th>2848</th>\n",
       "      <td>3.372873</td>\n",
       "      <td>-4.409184</td>\n",
       "      <td>1.396297</td>\n",
       "      <td>8</td>\n",
       "    </tr>\n",
       "    <tr>\n",
       "      <th>2849</th>\n",
       "      <td>3.261721</td>\n",
       "      <td>-4.415556</td>\n",
       "      <td>1.407741</td>\n",
       "      <td>8</td>\n",
       "    </tr>\n",
       "  </tbody>\n",
       "</table>\n",
       "<p>2850 rows × 4 columns</p>\n",
       "</div>"
      ],
      "text/plain": [
       "             0         1         2  0\n",
       "0    -3.714375 -1.582964 -0.106822  1\n",
       "1    -3.718911 -1.583909 -0.106570  1\n",
       "2    -3.289348 -1.538776 -0.223914  1\n",
       "3    -3.268526 -1.539038 -0.236779  1\n",
       "4    -3.262346 -1.535311 -0.243634  1\n",
       "...        ...       ...       ... ..\n",
       "2845  3.494954 -4.350059  1.350967  8\n",
       "2846  3.454217 -4.393956  1.374056  8\n",
       "2847  3.400697 -4.387613  1.386575  8\n",
       "2848  3.372873 -4.409184  1.396297  8\n",
       "2849  3.261721 -4.415556  1.407741  8\n",
       "\n",
       "[2850 rows x 4 columns]"
      ]
     },
     "execution_count": 7,
     "metadata": {},
     "output_type": "execute_result"
    }
   ],
   "source": [
    "# concatenating data frames\n",
    "df = pd.concat([df1,df2], axis=1, join = 'inner')\n",
    "df"
   ]
  },
  {
   "cell_type": "code",
   "execution_count": 8,
   "id": "755b895f",
   "metadata": {},
   "outputs": [],
   "source": [
    "df.to_csv('SPCAData(P3).csv')"
   ]
  }
 ],
 "metadata": {
  "kernelspec": {
   "display_name": "Python 3 (ipykernel)",
   "language": "python",
   "name": "python3"
  },
  "language_info": {
   "codemirror_mode": {
    "name": "ipython",
    "version": 3
   },
   "file_extension": ".py",
   "mimetype": "text/x-python",
   "name": "python",
   "nbconvert_exporter": "python",
   "pygments_lexer": "ipython3",
   "version": "3.11.7"
  }
 },
 "nbformat": 4,
 "nbformat_minor": 5
}
