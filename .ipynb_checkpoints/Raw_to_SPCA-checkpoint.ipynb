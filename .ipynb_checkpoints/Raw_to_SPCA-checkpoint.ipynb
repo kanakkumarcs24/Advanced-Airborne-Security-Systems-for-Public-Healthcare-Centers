{
 "cells": [
  {
   "cell_type": "code",
   "execution_count": 1,
   "id": "e7c206b4",
   "metadata": {},
   "outputs": [
    {
     "name": "stderr",
     "output_type": "stream",
     "text": [
      "C:\\Users\\KANAK\\AppData\\Local\\Temp\\ipykernel_2248\\1918272072.py:2: DeprecationWarning: \n",
      "Pyarrow will become a required dependency of pandas in the next major release of pandas (pandas 3.0),\n",
      "(to allow more performant data types, such as the Arrow string type, and better interoperability with other libraries)\n",
      "but was not found to be installed on your system.\n",
      "If this would cause problems for you,\n",
      "please provide us feedback at https://github.com/pandas-dev/pandas/issues/54466\n",
      "        \n",
      "  import pandas as pd\n"
     ]
    }
   ],
   "source": [
    "import numpy as np\n",
    "import pandas as pd\n",
    "\n",
    "import warnings\n",
    "warnings.filterwarnings('ignore')"
   ]
  },
  {
   "cell_type": "code",
   "execution_count": 2,
   "id": "6282f10c",
   "metadata": {},
   "outputs": [],
   "source": [
    "data = pd.read_csv(r'C:\\Users\\KANAK\\Desktop\\Codes\\LoRaIoT/dataset2.csv')"
   ]
  },
  {
   "cell_type": "code",
   "execution_count": 3,
   "id": "f437c1af",
   "metadata": {},
   "outputs": [],
   "source": [
    "X = data.iloc[:,0:6].values\n",
    "y = data.iloc[:,6].values"
   ]
  },
  {
   "cell_type": "code",
   "execution_count": 4,
   "id": "90266f72",
   "metadata": {},
   "outputs": [],
   "source": [
    "from sklearn.preprocessing import StandardScaler\n",
    "scaler = StandardScaler()\n",
    "Scaled_X=scaler.fit_transform(X)"
   ]
  },
  {
   "cell_type": "code",
   "execution_count": 5,
   "id": "0f8b925c",
   "metadata": {},
   "outputs": [
    {
     "data": {
      "text/plain": [
       "array([0.69293455, 0.24433351, 0.02825833, 0.01710062, 0.01003166,\n",
       "       0.00734133])"
      ]
     },
     "execution_count": 5,
     "metadata": {},
     "output_type": "execute_result"
    }
   ],
   "source": [
    "from sklearn.decomposition import PCA\n",
    "pca_model = PCA(n_components=6)\n",
    "spca_X = pca_model.fit_transform(Scaled_X)\n",
    "spca_X\n",
    "pca_model.explained_variance_ratio_"
   ]
  },
  {
   "cell_type": "code",
   "execution_count": 6,
   "id": "25178e2a",
   "metadata": {},
   "outputs": [],
   "source": [
    "# Create data Frame\n",
    "df1 = pd.DataFrame(spca_X)\n",
    "df2 = pd.DataFrame(y)"
   ]
  },
  {
   "cell_type": "code",
   "execution_count": 7,
   "id": "600c3d2f",
   "metadata": {},
   "outputs": [
    {
     "data": {
      "text/html": [
       "<div>\n",
       "<style scoped>\n",
       "    .dataframe tbody tr th:only-of-type {\n",
       "        vertical-align: middle;\n",
       "    }\n",
       "\n",
       "    .dataframe tbody tr th {\n",
       "        vertical-align: top;\n",
       "    }\n",
       "\n",
       "    .dataframe thead th {\n",
       "        text-align: right;\n",
       "    }\n",
       "</style>\n",
       "<table border=\"1\" class=\"dataframe\">\n",
       "  <thead>\n",
       "    <tr style=\"text-align: right;\">\n",
       "      <th></th>\n",
       "      <th>0</th>\n",
       "      <th>1</th>\n",
       "      <th>2</th>\n",
       "      <th>3</th>\n",
       "      <th>4</th>\n",
       "      <th>5</th>\n",
       "      <th>0</th>\n",
       "    </tr>\n",
       "  </thead>\n",
       "  <tbody>\n",
       "    <tr>\n",
       "      <th>0</th>\n",
       "      <td>-0.467951</td>\n",
       "      <td>-0.971660</td>\n",
       "      <td>0.522495</td>\n",
       "      <td>-0.158211</td>\n",
       "      <td>-0.131497</td>\n",
       "      <td>0.205817</td>\n",
       "      <td>1</td>\n",
       "    </tr>\n",
       "    <tr>\n",
       "      <th>1</th>\n",
       "      <td>-0.397360</td>\n",
       "      <td>-1.021791</td>\n",
       "      <td>0.486361</td>\n",
       "      <td>-0.153340</td>\n",
       "      <td>-0.013398</td>\n",
       "      <td>0.246143</td>\n",
       "      <td>1</td>\n",
       "    </tr>\n",
       "    <tr>\n",
       "      <th>2</th>\n",
       "      <td>-0.542726</td>\n",
       "      <td>-1.143146</td>\n",
       "      <td>0.523945</td>\n",
       "      <td>-0.114229</td>\n",
       "      <td>-0.116037</td>\n",
       "      <td>0.083319</td>\n",
       "      <td>1</td>\n",
       "    </tr>\n",
       "    <tr>\n",
       "      <th>3</th>\n",
       "      <td>-0.437707</td>\n",
       "      <td>-1.082707</td>\n",
       "      <td>0.474964</td>\n",
       "      <td>-0.158253</td>\n",
       "      <td>-0.067808</td>\n",
       "      <td>0.163195</td>\n",
       "      <td>1</td>\n",
       "    </tr>\n",
       "    <tr>\n",
       "      <th>4</th>\n",
       "      <td>-0.542911</td>\n",
       "      <td>-1.101881</td>\n",
       "      <td>0.529655</td>\n",
       "      <td>-0.141451</td>\n",
       "      <td>-0.126367</td>\n",
       "      <td>0.158742</td>\n",
       "      <td>1</td>\n",
       "    </tr>\n",
       "    <tr>\n",
       "      <th>...</th>\n",
       "      <td>...</td>\n",
       "      <td>...</td>\n",
       "      <td>...</td>\n",
       "      <td>...</td>\n",
       "      <td>...</td>\n",
       "      <td>...</td>\n",
       "      <td>...</td>\n",
       "    </tr>\n",
       "    <tr>\n",
       "      <th>2995</th>\n",
       "      <td>-3.717611</td>\n",
       "      <td>1.708592</td>\n",
       "      <td>-0.118393</td>\n",
       "      <td>0.096214</td>\n",
       "      <td>-0.110050</td>\n",
       "      <td>0.081845</td>\n",
       "      <td>8</td>\n",
       "    </tr>\n",
       "    <tr>\n",
       "      <th>2996</th>\n",
       "      <td>-3.719542</td>\n",
       "      <td>1.710236</td>\n",
       "      <td>-0.117082</td>\n",
       "      <td>0.095866</td>\n",
       "      <td>-0.106415</td>\n",
       "      <td>0.083610</td>\n",
       "      <td>8</td>\n",
       "    </tr>\n",
       "    <tr>\n",
       "      <th>2997</th>\n",
       "      <td>-3.721701</td>\n",
       "      <td>1.710860</td>\n",
       "      <td>-0.116025</td>\n",
       "      <td>0.096994</td>\n",
       "      <td>-0.104699</td>\n",
       "      <td>0.087442</td>\n",
       "      <td>8</td>\n",
       "    </tr>\n",
       "    <tr>\n",
       "      <th>2998</th>\n",
       "      <td>-3.726315</td>\n",
       "      <td>1.711867</td>\n",
       "      <td>-0.115790</td>\n",
       "      <td>0.096877</td>\n",
       "      <td>-0.103773</td>\n",
       "      <td>0.088629</td>\n",
       "      <td>8</td>\n",
       "    </tr>\n",
       "    <tr>\n",
       "      <th>2999</th>\n",
       "      <td>-3.289046</td>\n",
       "      <td>1.664087</td>\n",
       "      <td>-0.235804</td>\n",
       "      <td>0.071180</td>\n",
       "      <td>-0.241621</td>\n",
       "      <td>-0.005900</td>\n",
       "      <td>8</td>\n",
       "    </tr>\n",
       "  </tbody>\n",
       "</table>\n",
       "<p>3000 rows × 7 columns</p>\n",
       "</div>"
      ],
      "text/plain": [
       "             0         1         2         3         4         5  0\n",
       "0    -0.467951 -0.971660  0.522495 -0.158211 -0.131497  0.205817  1\n",
       "1    -0.397360 -1.021791  0.486361 -0.153340 -0.013398  0.246143  1\n",
       "2    -0.542726 -1.143146  0.523945 -0.114229 -0.116037  0.083319  1\n",
       "3    -0.437707 -1.082707  0.474964 -0.158253 -0.067808  0.163195  1\n",
       "4    -0.542911 -1.101881  0.529655 -0.141451 -0.126367  0.158742  1\n",
       "...        ...       ...       ...       ...       ...       ... ..\n",
       "2995 -3.717611  1.708592 -0.118393  0.096214 -0.110050  0.081845  8\n",
       "2996 -3.719542  1.710236 -0.117082  0.095866 -0.106415  0.083610  8\n",
       "2997 -3.721701  1.710860 -0.116025  0.096994 -0.104699  0.087442  8\n",
       "2998 -3.726315  1.711867 -0.115790  0.096877 -0.103773  0.088629  8\n",
       "2999 -3.289046  1.664087 -0.235804  0.071180 -0.241621 -0.005900  8\n",
       "\n",
       "[3000 rows x 7 columns]"
      ]
     },
     "execution_count": 7,
     "metadata": {},
     "output_type": "execute_result"
    }
   ],
   "source": [
    "# concatenating data frames\n",
    "df = pd.concat([df1,df2], axis=1, join = 'inner')\n",
    "df"
   ]
  },
  {
   "cell_type": "code",
   "execution_count": 8,
   "id": "755b895f",
   "metadata": {},
   "outputs": [],
   "source": [
    "df.to_csv('SPCA_Data.csv')"
   ]
  }
 ],
 "metadata": {
  "kernelspec": {
   "display_name": "Python 3 (ipykernel)",
   "language": "python",
   "name": "python3"
  },
  "language_info": {
   "codemirror_mode": {
    "name": "ipython",
    "version": 3
   },
   "file_extension": ".py",
   "mimetype": "text/x-python",
   "name": "python",
   "nbconvert_exporter": "python",
   "pygments_lexer": "ipython3",
   "version": "3.11.7"
  }
 },
 "nbformat": 4,
 "nbformat_minor": 5
}
