{
 "cells": [
  {
   "cell_type": "code",
   "execution_count": 1,
   "id": "14fb5ca0-dd7e-45a5-ae53-8f584dfe950f",
   "metadata": {},
   "outputs": [
    {
     "name": "stderr",
     "output_type": "stream",
     "text": [
      "C:\\Users\\KANAK\\AppData\\Local\\Temp\\ipykernel_10580\\2771376931.py:2: DeprecationWarning: \n",
      "Pyarrow will become a required dependency of pandas in the next major release of pandas (pandas 3.0),\n",
      "(to allow more performant data types, such as the Arrow string type, and better interoperability with other libraries)\n",
      "but was not found to be installed on your system.\n",
      "If this would cause problems for you,\n",
      "please provide us feedback at https://github.com/pandas-dev/pandas/issues/54466\n",
      "        \n",
      "  import pandas as pd\n"
     ]
    }
   ],
   "source": [
    "# Import necessary libraries\n",
    "import pandas as pd\n",
    "import numpy as np # linear algebra\n",
    "from sklearn.model_selection import train_test_split\n",
    "from sklearn.naive_bayes import GaussianNB\n",
    "from sklearn.metrics import accuracy_score, classification_report\n",
    "\n",
    "# Load the CSV dataset\n",
    "data = pd.read_csv(r'C:\\Users\\KANAK\\Desktop\\Codes\\LoRaIoT\\GitHub/PHC_RawDataset.csv')\n",
    "\n",
    "# Assuming the last column is the target variable and others are features\n",
    "X = data.iloc[:, :-1]  # Features\n",
    "y = data.iloc[:, -1]   # Target\n",
    "\n",
    "# Split the dataset into training and test sets\n",
    "X_train, X_test, y_train, y_test = train_test_split(X, y, test_size=0.2, random_state=42)\n",
    "\n",
    "# Initialize Naive Bayes Classifier (GaussianNB for continuous features)\n",
    "model = GaussianNB()\n",
    "\n",
    "# Train the model\n",
    "model.fit(X_train, y_train)\n",
    "\n",
    "# Make predictions\n",
    "y_pred = model.predict(X_test)"
   ]
  },
  {
   "cell_type": "code",
   "execution_count": 2,
   "id": "0aebb444-2ab1-4252-abb0-4caebc399668",
   "metadata": {},
   "outputs": [],
   "source": [
    "import math\n",
    "cm2 = pd.crosstab(y_test, y_pred)"
   ]
  },
  {
   "cell_type": "code",
   "execution_count": 3,
   "id": "eaa363b1-a025-4047-aa62-ee5cd869e80a",
   "metadata": {},
   "outputs": [
    {
     "name": "stdout",
     "output_type": "stream",
     "text": [
      "1 97.89473684210527 100.0 68.42105263157895 81.24999999999999 0.6842105263157895 1.0 0.8271701918685112\n",
      "2 90.70175438596492 90.0 74.52229299363057 81.53310104529618 0.7452229299363057 0.9685230024213075 0.849567860488563\n",
      "3 95.26315789473684 84.8 92.98245614035088 88.7029288702929 0.9298245614035088 0.9583333333333334 0.9439713297261889\n",
      "4 88.94736842105263 65.76576576576578 74.48979591836735 69.85645933014357 0.7448979591836735 0.9194915254237288 0.8276033837381397\n",
      "5 98.0701754385965 92.13483146067416 95.34883720930233 93.71428571428571 0.9534883720930233 0.9855371900826446 0.9693803438326121\n",
      "6 93.6842105263158 0.0 0.0 nan 0.0 0.9535714285714286 0.0\n",
      "7 93.33333333333333 51.42857142857142 46.15384615384615 48.64864864864864 0.46153846153846156 0.967984934086629 0.6684027807173993\n",
      "8 100.0 100.0 100.0 100.0 1.0 1.0 1.0\n"
     ]
    },
    {
     "name": "stderr",
     "output_type": "stream",
     "text": [
      "C:\\Users\\KANAK\\AppData\\Local\\Temp\\ipykernel_10580\\2830527459.py:9: RuntimeWarning: invalid value encountered in scalar divide\n",
      "  F1_Score = (2 * Precision * Recall)/(Precision + Recall)\n"
     ]
    }
   ],
   "source": [
    "for i in range(cm2.shape[0]):\n",
    "    TP = cm2.iloc[i,i]    # zeroth row & zeroth column\n",
    "    FP = cm2.iloc[i,:].sum()-TP \n",
    "    FN = cm2.iloc[:,i].sum()-TP\n",
    "    TN = cm2.sum().sum()-(TP+FP+FN)\n",
    "    Accuracy = ((TP+TN)/cm2.sum().sum()) *100\n",
    "    Precision = (TP/(TP+FP)) * 100\n",
    "    Recall = (TP/(TP+FN)) * 100\n",
    "    F1_Score = (2 * Precision * Recall)/(Precision + Recall)\n",
    "    Sensitivity = (TP/(TP+FN))\n",
    "    Specificity = (TN/(FP+TN))\n",
    "    G_Mean = math.sqrt((TP/(TP+FN))*(TN/(FP+TN)))\n",
    "    print(cm2.index[i], Accuracy,  Precision,  Recall,  F1_Score, Sensitivity, Specificity, G_Mean)"
   ]
  }
 ],
 "metadata": {
  "kernelspec": {
   "display_name": "Python 3 (ipykernel)",
   "language": "python",
   "name": "python3"
  },
  "language_info": {
   "codemirror_mode": {
    "name": "ipython",
    "version": 3
   },
   "file_extension": ".py",
   "mimetype": "text/x-python",
   "name": "python",
   "nbconvert_exporter": "python",
   "pygments_lexer": "ipython3",
   "version": "3.11.7"
  }
 },
 "nbformat": 4,
 "nbformat_minor": 5
}
